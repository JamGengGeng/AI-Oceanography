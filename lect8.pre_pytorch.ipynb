{
 "cells": [
  {
   "cell_type": "code",
   "execution_count": 5,
   "metadata": {},
   "outputs": [
    {
     "name": "stdout",
     "output_type": "stream",
     "text": [
      "2.699206232527312 0.674801558131828 0.4498677054212186\n"
     ]
    }
   ],
   "source": [
    "import numpy as np\n",
    "\n",
    "class RMSE:\n",
    "    def __call__(self, input, target):\n",
    "        self.input = input\n",
    "        self.target = target\n",
    "        RMSD = (np.mean((input - target) ** 2, axis=0)) ** 0.5\n",
    "        return RMSD\n",
    "\n",
    "    def NRMSD_1(self):\n",
    "        nrmsd_1 = ((np.mean((self.input - self.target) ** 2, axis=0))) ** 0.5 / np.mean(\n",
    "            self.input\n",
    "        )\n",
    "        return nrmsd_1\n",
    "\n",
    "    def NRMSD_2(self):\n",
    "        nrmsd_2 = (np.mean((self.input - self.target) ** 2, axis=0)) ** 0.5 / (\n",
    "            np.max(self.input) - np.min(self.input)\n",
    "        )\n",
    "        return nrmsd_2\n",
    "\n",
    "\n",
    "y = np.array([1, 2, 3, 4, 5, 6, 7])\n",
    "y_hat = np.array([6, 5, 4, 2, 7, 8, 9])\n",
    "\n",
    "rmse = RMSE()\n",
    "resd = rmse(y, y_hat)\n",
    "\n",
    "print(resd, rmse.NRMSD_1(), rmse.NRMSD_2())"
   ]
  },
  {
   "cell_type": "code",
   "execution_count": 6,
   "metadata": {},
   "outputs": [],
   "source": [
    "#mean squared error\n",
    "import numpy as np\n",
    "\n",
    "def mean_squared_error(a, b):\n",
    "    mse = np.mean((a - b) ** 2)\n",
    "    return mse\n",
    "\n",
    "#mean absolute error\n",
    "def mean_absolute_error(a, b):\n",
    "    mae = np.mean(np.abs(a - b))\n",
    "    return mae\n"
   ]
  },
  {
   "cell_type": "code",
   "execution_count": 8,
   "metadata": {},
   "outputs": [
    {
     "name": "stdout",
     "output_type": "stream",
     "text": [
      "Pearson correlation coefficient: 1.0\n",
      "3.1622776601683795 3.1622776601683795\n"
     ]
    },
    {
     "data": {
      "text/plain": [
       "0.9999999999999998"
      ]
     },
     "execution_count": 8,
     "metadata": {},
     "output_type": "execute_result"
    }
   ],
   "source": [
    "# pearson correlation\n",
    "import numpy as np\n",
    "from scipy.stats import pearsonr\n",
    "\n",
    "# Example arrays\n",
    "x = np.array([1, 2, 3, 4, 5])\n",
    "y = np.array([6, 7, 8, 9, 10])\n",
    "\n",
    "# Calculate Pearson correlation coefficient\n",
    "corr, _ = pearsonr(x, y)\n",
    "\n",
    "print(\"Pearson correlation coefficient:\", corr)\n",
    "\n",
    "\n",
    "# pearson correlation_2\n",
    "def pearson(x, y):\n",
    "    co = np.cov(x, y)\n",
    "    std_x = np.std(x)*5**0.5\n",
    "    std_y = np.std(y)*5**0.5\n",
    "    print( std_x, std_y)\n",
    "\n",
    "    return np.sum(co) / (std_x * std_y)\n",
    "\n",
    "\n",
    "pearson(x, y)"
   ]
  },
  {
   "cell_type": "code",
   "execution_count": null,
   "metadata": {},
   "outputs": [],
   "source": [
    "#coinfficient of determination_def_1\n",
    "import numpy as np\n",
    "\n",
    "# Example arrays\n",
    "x = np.array([1, 2, 3, 4, 5])\n",
    "y = np.array([6, 7, 8, 9, 10])\n",
    "\n",
    "# Calculate Pearson correlation coefficient\n",
    "corr, _ = pearsonr(x, y)\n",
    "r_2 = corr**2\n",
    "\n",
    "#coinfficient of determination_def_2\n",
    "y_1 =[3,5,2,8,4]\n",
    "f = [2,3,4,5,6]\n",
    "\n",
    "def Cod(input,reg):\n",
    "    ss_tot = np.sum((input-np.mean(input))**2)\n",
    "    ss_res =np.sum((input-reg)**2)\n",
    "    return ss_res/ss_tot\n",
    "\n",
    "Cod(y_1,f)\n"
   ]
  },
  {
   "cell_type": "code",
   "execution_count": 9,
   "metadata": {},
   "outputs": [],
   "source": [
    "\n",
    "\n",
    "\n"
   ]
  }
 ],
 "metadata": {
  "kernelspec": {
   "display_name": "Python 3",
   "language": "python",
   "name": "python3"
  },
  "language_info": {
   "codemirror_mode": {
    "name": "ipython",
    "version": 3
   },
   "file_extension": ".py",
   "mimetype": "text/x-python",
   "name": "python",
   "nbconvert_exporter": "python",
   "pygments_lexer": "ipython3",
   "version": "3.11.5"
  }
 },
 "nbformat": 4,
 "nbformat_minor": 2
}
